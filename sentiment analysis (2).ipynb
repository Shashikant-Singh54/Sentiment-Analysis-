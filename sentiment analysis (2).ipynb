{
 "cells": [
  {
   "cell_type": "code",
   "execution_count": 1,
   "id": "d105afc1",
   "metadata": {},
   "outputs": [],
   "source": [
    "import pandas as pd \n",
    "import re\n",
    "import warnings\n",
    "\n",
    "from xgboost import XGBClassifier\n",
    "warnings.filterwarnings(\"ignore\")"
   ]
  },
  {
   "cell_type": "code",
   "execution_count": 2,
   "id": "45c8ce96",
   "metadata": {},
   "outputs": [],
   "source": [
    "file = pd.read_csv(r\"C:\\Users\\ravin\\Downloads\\bank_reviews3.csv\")"
   ]
  },
  {
   "cell_type": "code",
   "execution_count": 3,
   "id": "cc7e4e7c",
   "metadata": {},
   "outputs": [
    {
     "data": {
      "text/html": [
       "<div>\n",
       "<style scoped>\n",
       "    .dataframe tbody tr th:only-of-type {\n",
       "        vertical-align: middle;\n",
       "    }\n",
       "\n",
       "    .dataframe tbody tr th {\n",
       "        vertical-align: top;\n",
       "    }\n",
       "\n",
       "    .dataframe thead th {\n",
       "        text-align: right;\n",
       "    }\n",
       "</style>\n",
       "<table border=\"1\" class=\"dataframe\">\n",
       "  <thead>\n",
       "    <tr style=\"text-align: right;\">\n",
       "      <th></th>\n",
       "      <th>bank</th>\n",
       "      <th>rating</th>\n",
       "      <th>review_title_by_user</th>\n",
       "      <th>review</th>\n",
       "      <th>rating_title_by_user</th>\n",
       "      <th>useful_count</th>\n",
       "    </tr>\n",
       "  </thead>\n",
       "  <tbody>\n",
       "    <tr>\n",
       "      <th>0</th>\n",
       "      <td>SBI</td>\n",
       "      <td>4.0</td>\n",
       "      <td>\"Best saving\"</td>\n",
       "      <td>State Bank Of India is located nearby in our a...</td>\n",
       "      <td>Great!</td>\n",
       "      <td>133</td>\n",
       "    </tr>\n",
       "    <tr>\n",
       "      <th>1</th>\n",
       "      <td>SBI</td>\n",
       "      <td>5.0</td>\n",
       "      <td>\"Good service\"</td>\n",
       "      <td>I have my salary account in SBI, when I applie...</td>\n",
       "      <td>Blown Away!</td>\n",
       "      <td>89</td>\n",
       "    </tr>\n",
       "    <tr>\n",
       "      <th>2</th>\n",
       "      <td>Axis Bank</td>\n",
       "      <td>5.0</td>\n",
       "      <td>\"Excellent Service\"</td>\n",
       "      <td>I am using Axis bank saving account for the  p...</td>\n",
       "      <td>Blown Away!</td>\n",
       "      <td>48</td>\n",
       "    </tr>\n",
       "    <tr>\n",
       "      <th>3</th>\n",
       "      <td>HDFC Bank</td>\n",
       "      <td>5.0</td>\n",
       "      <td>\"Excellent service\"</td>\n",
       "      <td>I have my salary bank account in HDFC bank for...</td>\n",
       "      <td>Blown Away!</td>\n",
       "      <td>52</td>\n",
       "    </tr>\n",
       "    <tr>\n",
       "      <th>4</th>\n",
       "      <td>review</td>\n",
       "      <td>5.0</td>\n",
       "      <td>\"Good account\"</td>\n",
       "      <td>Close to around 10 years, I am holding this Co...</td>\n",
       "      <td>Blown Away!</td>\n",
       "      <td>22</td>\n",
       "    </tr>\n",
       "    <tr>\n",
       "      <th>...</th>\n",
       "      <td>...</td>\n",
       "      <td>...</td>\n",
       "      <td>...</td>\n",
       "      <td>...</td>\n",
       "      <td>...</td>\n",
       "      <td>...</td>\n",
       "    </tr>\n",
       "    <tr>\n",
       "      <th>995</th>\n",
       "      <td>review</td>\n",
       "      <td>3.5</td>\n",
       "      <td>\"Good network of ATM\"</td>\n",
       "      <td>I am holding a saving account with FEDERAL ban...</td>\n",
       "      <td>Pretty good</td>\n",
       "      <td>3</td>\n",
       "    </tr>\n",
       "    <tr>\n",
       "      <th>996</th>\n",
       "      <td>Axis Bank</td>\n",
       "      <td>4.0</td>\n",
       "      <td>\"Mobile app is good\"</td>\n",
       "      <td>There is no mandatory balance to keep in my Ax...</td>\n",
       "      <td>Great!</td>\n",
       "      <td>0</td>\n",
       "    </tr>\n",
       "    <tr>\n",
       "      <th>997</th>\n",
       "      <td>Axis Bank</td>\n",
       "      <td>4.0</td>\n",
       "      <td>\"Unhappy with the charges\"</td>\n",
       "      <td>In Axis bank, every month they are charging me...</td>\n",
       "      <td>Great!</td>\n",
       "      <td>0</td>\n",
       "    </tr>\n",
       "    <tr>\n",
       "      <th>998</th>\n",
       "      <td>Axis Bank</td>\n",
       "      <td>5.0</td>\n",
       "      <td>\"Good Bank\"</td>\n",
       "      <td>I have a salary account with AXIS bank and I h...</td>\n",
       "      <td>Blown Away!</td>\n",
       "      <td>0</td>\n",
       "    </tr>\n",
       "    <tr>\n",
       "      <th>999</th>\n",
       "      <td>review</td>\n",
       "      <td>4.0</td>\n",
       "      <td>\"Need to improve the service \"</td>\n",
       "      <td>Opened the savings account with Union bank of ...</td>\n",
       "      <td>Great!</td>\n",
       "      <td>0</td>\n",
       "    </tr>\n",
       "  </tbody>\n",
       "</table>\n",
       "<p>1000 rows × 6 columns</p>\n",
       "</div>"
      ],
      "text/plain": [
       "          bank  rating            review_title_by_user  \\\n",
       "0          SBI     4.0                   \"Best saving\"   \n",
       "1          SBI     5.0                  \"Good service\"   \n",
       "2    Axis Bank     5.0             \"Excellent Service\"   \n",
       "3    HDFC Bank     5.0             \"Excellent service\"   \n",
       "4       review     5.0                  \"Good account\"   \n",
       "..         ...     ...                             ...   \n",
       "995     review     3.5           \"Good network of ATM\"   \n",
       "996  Axis Bank     4.0            \"Mobile app is good\"   \n",
       "997  Axis Bank     4.0      \"Unhappy with the charges\"   \n",
       "998  Axis Bank     5.0                     \"Good Bank\"   \n",
       "999     review     4.0  \"Need to improve the service \"   \n",
       "\n",
       "                                                review rating_title_by_user  \\\n",
       "0    State Bank Of India is located nearby in our a...               Great!   \n",
       "1    I have my salary account in SBI, when I applie...          Blown Away!   \n",
       "2    I am using Axis bank saving account for the  p...          Blown Away!   \n",
       "3    I have my salary bank account in HDFC bank for...          Blown Away!   \n",
       "4    Close to around 10 years, I am holding this Co...          Blown Away!   \n",
       "..                                                 ...                  ...   \n",
       "995  I am holding a saving account with FEDERAL ban...          Pretty good   \n",
       "996  There is no mandatory balance to keep in my Ax...               Great!   \n",
       "997  In Axis bank, every month they are charging me...               Great!   \n",
       "998  I have a salary account with AXIS bank and I h...          Blown Away!   \n",
       "999  Opened the savings account with Union bank of ...               Great!   \n",
       "\n",
       "     useful_count  \n",
       "0             133  \n",
       "1              89  \n",
       "2              48  \n",
       "3              52  \n",
       "4              22  \n",
       "..            ...  \n",
       "995             3  \n",
       "996             0  \n",
       "997             0  \n",
       "998             0  \n",
       "999             0  \n",
       "\n",
       "[1000 rows x 6 columns]"
      ]
     },
     "execution_count": 3,
     "metadata": {},
     "output_type": "execute_result"
    }
   ],
   "source": [
    "file"
   ]
  },
  {
   "cell_type": "code",
   "execution_count": 4,
   "id": "98dd543f",
   "metadata": {},
   "outputs": [
    {
     "name": "stdout",
     "output_type": "stream",
     "text": [
      "<class 'pandas.core.frame.DataFrame'>\n",
      "RangeIndex: 1000 entries, 0 to 999\n",
      "Data columns (total 6 columns):\n",
      " #   Column                Non-Null Count  Dtype  \n",
      "---  ------                --------------  -----  \n",
      " 0   bank                  1000 non-null   object \n",
      " 1   rating                1000 non-null   float64\n",
      " 2   review_title_by_user  1000 non-null   object \n",
      " 3   review                1000 non-null   object \n",
      " 4   rating_title_by_user  1000 non-null   object \n",
      " 5   useful_count          1000 non-null   int64  \n",
      "dtypes: float64(1), int64(1), object(4)\n",
      "memory usage: 47.0+ KB\n"
     ]
    }
   ],
   "source": [
    "file.info()"
   ]
  },
  {
   "cell_type": "code",
   "execution_count": null,
   "id": "04cd5146",
   "metadata": {},
   "outputs": [],
   "source": []
  },
  {
   "cell_type": "markdown",
   "id": "e086859e",
   "metadata": {},
   "source": [
    "# Preprocessing"
   ]
  },
  {
   "cell_type": "code",
   "execution_count": 5,
   "id": "cc915b71",
   "metadata": {},
   "outputs": [
    {
     "data": {
      "text/plain": [
       "0         Great!\n",
       "1    Blown Away!\n",
       "2    Blown Away!\n",
       "3    Blown Away!\n",
       "4    Blown Away!\n",
       "Name: rating_title_by_user, dtype: object"
      ]
     },
     "execution_count": 5,
     "metadata": {},
     "output_type": "execute_result"
    }
   ],
   "source": [
    "file['rating_title_by_user'].head()"
   ]
  },
  {
   "cell_type": "code",
   "execution_count": 6,
   "id": "f73364ee",
   "metadata": {},
   "outputs": [
    {
     "data": {
      "text/plain": [
       "['Great!',\n",
       " 'Blown Away!',\n",
       " 'Satisfactory',\n",
       " 'Excellent!',\n",
       " 'Unacceptable',\n",
       " 'Expected more',\n",
       " 'Pretty good',\n",
       " 'Bad',\n",
       " 'Really Bad',\n",
       " 'Just OK']"
      ]
     },
     "execution_count": 6,
     "metadata": {},
     "output_type": "execute_result"
    }
   ],
   "source": [
    "file['rating_title_by_user'].unique().tolist()"
   ]
  },
  {
   "cell_type": "code",
   "execution_count": 7,
   "id": "bd58bb58",
   "metadata": {},
   "outputs": [
    {
     "data": {
      "text/plain": [
       "5.0    550\n",
       "4.0    257\n",
       "3.0     71\n",
       "4.5     45\n",
       "2.0     30\n",
       "3.5     21\n",
       "1.0     13\n",
       "0.5     10\n",
       "2.5      2\n",
       "1.5      1\n",
       "Name: rating, dtype: int64"
      ]
     },
     "execution_count": 7,
     "metadata": {},
     "output_type": "execute_result"
    }
   ],
   "source": [
    "file['rating'].value_counts()"
   ]
  },
  {
   "cell_type": "code",
   "execution_count": null,
   "id": "e136b95a",
   "metadata": {},
   "outputs": [],
   "source": []
  },
  {
   "cell_type": "code",
   "execution_count": 8,
   "id": "195f09df",
   "metadata": {},
   "outputs": [],
   "source": [
    "def convert(df, column='enter'):\n",
    "    data = []\n",
    "    datan = []\n",
    "    for i in df[column]:\n",
    "        if i >= 4:\n",
    "            data.append('positive')\n",
    "            datan.append(2)\n",
    "        elif i < 4 and i >= 2:\n",
    "            data.append('neutral')\n",
    "            datan.append(1)\n",
    "        else:\n",
    "            data.append('negtive')\n",
    "            datan.append(0)\n",
    "    return data, datan\n",
    "    \n",
    "       "
   ]
  },
  {
   "cell_type": "code",
   "execution_count": 9,
   "id": "242cbbea",
   "metadata": {},
   "outputs": [],
   "source": [
    "data, datan = convert(file, column='rating')"
   ]
  },
  {
   "cell_type": "code",
   "execution_count": 10,
   "id": "4b1dc0a8",
   "metadata": {},
   "outputs": [],
   "source": [
    "file['rating1'] = data\n",
    "file['ratingn'] = datan"
   ]
  },
  {
   "cell_type": "code",
   "execution_count": 11,
   "id": "82764b4d",
   "metadata": {},
   "outputs": [
    {
     "data": {
      "text/plain": [
       "positive    852\n",
       "neutral     124\n",
       "negtive      24\n",
       "Name: rating1, dtype: int64"
      ]
     },
     "execution_count": 11,
     "metadata": {},
     "output_type": "execute_result"
    }
   ],
   "source": [
    "file['rating1'].value_counts()"
   ]
  },
  {
   "cell_type": "code",
   "execution_count": 12,
   "id": "72455815",
   "metadata": {},
   "outputs": [],
   "source": [
    "data1 = []"
   ]
  },
  {
   "cell_type": "code",
   "execution_count": 13,
   "id": "31ea3172",
   "metadata": {},
   "outputs": [],
   "source": [
    "for words in file['review']:\n",
    "        words = str(words)\n",
    "        data1.append(re.sub(r'[^a-zA-Z\\s]', '', words).lower())"
   ]
  },
  {
   "cell_type": "code",
   "execution_count": 14,
   "id": "27b95110",
   "metadata": {},
   "outputs": [],
   "source": [
    "file['cleared'] = data1"
   ]
  },
  {
   "cell_type": "markdown",
   "id": "0d0cdcbf",
   "metadata": {},
   "source": [
    "# Stop Word and toeknization"
   ]
  },
  {
   "cell_type": "code",
   "execution_count": 15,
   "id": "36d627c6",
   "metadata": {},
   "outputs": [],
   "source": [
    "from nltk.corpus import stopwords\n",
    "from nltk.tokenize import word_tokenize"
   ]
  },
  {
   "cell_type": "code",
   "execution_count": 16,
   "id": "48b9906f",
   "metadata": {},
   "outputs": [],
   "source": [
    "file['Tokenized_Reviews'] = file['cleared'].apply(lambda x: word_tokenize(str(x)))"
   ]
  },
  {
   "cell_type": "code",
   "execution_count": 17,
   "id": "0b5db92b",
   "metadata": {},
   "outputs": [],
   "source": [
    "filtered = []\n",
    "\n",
    "stopword = set(stopwords.words('english'))"
   ]
  },
  {
   "cell_type": "code",
   "execution_count": 18,
   "id": "a392a4b6",
   "metadata": {},
   "outputs": [],
   "source": [
    "for words in file['Tokenized_Reviews']:\n",
    "    filtered.append([word for word in words if word not in stopword])\n",
    "    "
   ]
  },
  {
   "cell_type": "markdown",
   "id": "a78118e2",
   "metadata": {},
   "source": [
    "# Lemmitization "
   ]
  },
  {
   "cell_type": "code",
   "execution_count": 19,
   "id": "4c8a07d3",
   "metadata": {},
   "outputs": [],
   "source": [
    "from nltk.stem import WordNetLemmatizer\n",
    "\n",
    "lem = WordNetLemmatizer()"
   ]
  },
  {
   "cell_type": "code",
   "execution_count": 20,
   "id": "9663f4f4",
   "metadata": {},
   "outputs": [],
   "source": [
    "data5 = []"
   ]
  },
  {
   "cell_type": "code",
   "execution_count": 21,
   "id": "33ff2b09",
   "metadata": {},
   "outputs": [],
   "source": [
    "for words in filtered:\n",
    "    data5.append([lem.lemmatize(word) for word in words])"
   ]
  },
  {
   "cell_type": "markdown",
   "id": "27b3f3c5",
   "metadata": {},
   "source": [
    "# Spelling correction "
   ]
  },
  {
   "cell_type": "code",
   "execution_count": 22,
   "id": "886b895b",
   "metadata": {},
   "outputs": [],
   "source": [
    "from autocorrect import Speller\n",
    "\n",
    "spell = Speller(lang='en')"
   ]
  },
  {
   "cell_type": "code",
   "execution_count": 23,
   "id": "7449a851",
   "metadata": {},
   "outputs": [],
   "source": [
    "new = []"
   ]
  },
  {
   "cell_type": "code",
   "execution_count": 24,
   "id": "f34e9e11",
   "metadata": {},
   "outputs": [],
   "source": [
    "for words in data5:\n",
    "    new.append([spell(word) for word in words])"
   ]
  },
  {
   "cell_type": "code",
   "execution_count": 25,
   "id": "8307e5c0",
   "metadata": {},
   "outputs": [],
   "source": [
    "file['final'] = new"
   ]
  },
  {
   "cell_type": "code",
   "execution_count": 26,
   "id": "dcb5772a",
   "metadata": {},
   "outputs": [],
   "source": [
    "final = pd.DataFrame()\n",
    "final['review'] = file['final']\n",
    "final['output'] = file['ratingn']"
   ]
  },
  {
   "cell_type": "code",
   "execution_count": 27,
   "id": "bc7629aa",
   "metadata": {},
   "outputs": [
    {
     "data": {
      "text/html": [
       "<div>\n",
       "<style scoped>\n",
       "    .dataframe tbody tr th:only-of-type {\n",
       "        vertical-align: middle;\n",
       "    }\n",
       "\n",
       "    .dataframe tbody tr th {\n",
       "        vertical-align: top;\n",
       "    }\n",
       "\n",
       "    .dataframe thead th {\n",
       "        text-align: right;\n",
       "    }\n",
       "</style>\n",
       "<table border=\"1\" class=\"dataframe\">\n",
       "  <thead>\n",
       "    <tr style=\"text-align: right;\">\n",
       "      <th></th>\n",
       "      <th>review</th>\n",
       "      <th>output</th>\n",
       "    </tr>\n",
       "  </thead>\n",
       "  <tbody>\n",
       "    <tr>\n",
       "      <th>0</th>\n",
       "      <td>[state, bank, india, located, nearby, area, op...</td>\n",
       "      <td>2</td>\n",
       "    </tr>\n",
       "    <tr>\n",
       "      <th>1</th>\n",
       "      <td>[salary, account, sbi, applied, card, got, sta...</td>\n",
       "      <td>2</td>\n",
       "    </tr>\n",
       "    <tr>\n",
       "      <th>2</th>\n",
       "      <td>[using, axis, bank, saving, account, past, yea...</td>\n",
       "      <td>2</td>\n",
       "    </tr>\n",
       "    <tr>\n",
       "      <th>3</th>\n",
       "      <td>[salary, bank, account, fdfc, bank, many, year...</td>\n",
       "      <td>2</td>\n",
       "    </tr>\n",
       "    <tr>\n",
       "      <th>4</th>\n",
       "      <td>[close, around, year, holding, corporation, ba...</td>\n",
       "      <td>2</td>\n",
       "    </tr>\n",
       "    <tr>\n",
       "      <th>...</th>\n",
       "      <td>...</td>\n",
       "      <td>...</td>\n",
       "    </tr>\n",
       "    <tr>\n",
       "      <th>995</th>\n",
       "      <td>[holding, saving, account, federal, bank, char...</td>\n",
       "      <td>1</td>\n",
       "    </tr>\n",
       "    <tr>\n",
       "      <th>996</th>\n",
       "      <td>[mandatory, balance, keep, axis, bank, interes...</td>\n",
       "      <td>2</td>\n",
       "    </tr>\n",
       "    <tr>\n",
       "      <th>997</th>\n",
       "      <td>[axis, bank, every, month, charging, around, r...</td>\n",
       "      <td>2</td>\n",
       "    </tr>\n",
       "    <tr>\n",
       "      <th>998</th>\n",
       "      <td>[salary, account, axis, bank, hold, account, l...</td>\n",
       "      <td>2</td>\n",
       "    </tr>\n",
       "    <tr>\n",
       "      <th>999</th>\n",
       "      <td>[opened, saving, account, union, bank, india, ...</td>\n",
       "      <td>2</td>\n",
       "    </tr>\n",
       "  </tbody>\n",
       "</table>\n",
       "<p>1000 rows × 2 columns</p>\n",
       "</div>"
      ],
      "text/plain": [
       "                                                review  output\n",
       "0    [state, bank, india, located, nearby, area, op...       2\n",
       "1    [salary, account, sbi, applied, card, got, sta...       2\n",
       "2    [using, axis, bank, saving, account, past, yea...       2\n",
       "3    [salary, bank, account, fdfc, bank, many, year...       2\n",
       "4    [close, around, year, holding, corporation, ba...       2\n",
       "..                                                 ...     ...\n",
       "995  [holding, saving, account, federal, bank, char...       1\n",
       "996  [mandatory, balance, keep, axis, bank, interes...       2\n",
       "997  [axis, bank, every, month, charging, around, r...       2\n",
       "998  [salary, account, axis, bank, hold, account, l...       2\n",
       "999  [opened, saving, account, union, bank, india, ...       2\n",
       "\n",
       "[1000 rows x 2 columns]"
      ]
     },
     "execution_count": 27,
     "metadata": {},
     "output_type": "execute_result"
    }
   ],
   "source": [
    "final"
   ]
  },
  {
   "cell_type": "markdown",
   "id": "47be595a",
   "metadata": {},
   "source": [
    "# Vectorization"
   ]
  },
  {
   "cell_type": "markdown",
   "id": "6302c432",
   "metadata": {},
   "source": [
    "# WORD2VEC"
   ]
  },
  {
   "cell_type": "code",
   "execution_count": 28,
   "id": "4764a8bf",
   "metadata": {},
   "outputs": [],
   "source": [
    "import gensim \n",
    "from gensim.models import Word2Vec, KeyedVectors\n",
    "import numpy as np"
   ]
  },
  {
   "cell_type": "code",
   "execution_count": 29,
   "id": "60be4c4c",
   "metadata": {},
   "outputs": [],
   "source": [
    "final['review'] = final['review'].apply(lambda x: ' '.join(x) if isinstance(x, list) else x)"
   ]
  },
  {
   "cell_type": "code",
   "execution_count": 30,
   "id": "b918a313",
   "metadata": {},
   "outputs": [],
   "source": [
    "tokenized_text = [text.split() for text in final['review']]\n",
    "word2vec_model = Word2Vec(sentences=tokenized_text, vector_size=100, window=5, min_count=2, workers=4)"
   ]
  },
  {
   "cell_type": "code",
   "execution_count": 31,
   "id": "7a55f208",
   "metadata": {},
   "outputs": [],
   "source": [
    "def document_vector(word2vec_model, doc):\n",
    "    # Remove out-of-vocabulary words\n",
    "    doc = [word for word in doc if word in word2vec_model.wv]\n",
    "    return np.mean(word2vec_model.wv[doc], axis=0)"
   ]
  },
  {
   "cell_type": "code",
   "execution_count": 32,
   "id": "fb7e2f5e",
   "metadata": {},
   "outputs": [],
   "source": [
    "X = np.array([document_vector(word2vec_model, doc) for doc in tokenized_text])"
   ]
  },
  {
   "cell_type": "code",
   "execution_count": 33,
   "id": "e8113a36",
   "metadata": {},
   "outputs": [],
   "source": [
    "experiment = pd.DataFrame(X)"
   ]
  },
  {
   "cell_type": "code",
   "execution_count": null,
   "id": "596d14a1",
   "metadata": {},
   "outputs": [],
   "source": []
  },
  {
   "cell_type": "markdown",
   "id": "3bf649b0",
   "metadata": {},
   "source": [
    "# Encoding "
   ]
  },
  {
   "cell_type": "markdown",
   "id": "d862802b",
   "metadata": {},
   "source": [
    "# Label ENcoder"
   ]
  },
  {
   "cell_type": "code",
   "execution_count": 34,
   "id": "9f545754",
   "metadata": {},
   "outputs": [],
   "source": [
    "from sklearn.preprocessing import LabelEncoder\n",
    "\n",
    "le = LabelEncoder()\n",
    "\n",
    "y = pd.DataFrame(le.fit_transform(file['rating1']))"
   ]
  },
  {
   "cell_type": "markdown",
   "id": "2ad27851",
   "metadata": {},
   "source": [
    "# Imbalance Dataset "
   ]
  },
  {
   "cell_type": "code",
   "execution_count": 35,
   "id": "0b214097",
   "metadata": {},
   "outputs": [],
   "source": [
    "from imblearn.over_sampling import SMOTE\n"
   ]
  },
  {
   "cell_type": "code",
   "execution_count": 36,
   "id": "470050f1",
   "metadata": {},
   "outputs": [],
   "source": [
    "smote = SMOTE(random_state=42)\n",
    "\n",
    "\n",
    "x_resampled, y_resampled = smote.fit_resample(experiment, y)"
   ]
  },
  {
   "cell_type": "code",
   "execution_count": 37,
   "id": "1f366733",
   "metadata": {},
   "outputs": [
    {
     "name": "stdout",
     "output_type": "stream",
     "text": [
      "(2556, 1) (2556, 100)\n"
     ]
    }
   ],
   "source": [
    "print(y_resampled.shape, x_resampled.shape)"
   ]
  },
  {
   "cell_type": "code",
   "execution_count": null,
   "id": "bea6ad3c",
   "metadata": {},
   "outputs": [],
   "source": []
  },
  {
   "cell_type": "markdown",
   "id": "55d76fea",
   "metadata": {},
   "source": [
    "# Train Test split"
   ]
  },
  {
   "cell_type": "code",
   "execution_count": 38,
   "id": "820fb80c",
   "metadata": {},
   "outputs": [],
   "source": [
    "from sklearn.model_selection import train_test_split\n",
    "\n",
    "x_train, x_test, y_train, y_test = train_test_split(x_resampled, y_resampled, test_size=.20, random_state=24)"
   ]
  },
  {
   "cell_type": "code",
   "execution_count": null,
   "id": "afc4a9c9",
   "metadata": {},
   "outputs": [],
   "source": []
  },
  {
   "cell_type": "markdown",
   "id": "1c1a4dd4",
   "metadata": {},
   "source": [
    "# Model building With WORD2VEC"
   ]
  },
  {
   "cell_type": "code",
   "execution_count": 39,
   "id": "e20120c1",
   "metadata": {},
   "outputs": [],
   "source": [
    "from sklearn.ensemble import RandomForestClassifier\n",
    "from sklearn.metrics import accuracy_score, classification_report\n",
    "from sklearn.linear_model import LogisticRegression"
   ]
  },
  {
   "cell_type": "code",
   "execution_count": 40,
   "id": "5515d5e8",
   "metadata": {},
   "outputs": [],
   "source": [
    "lr = LogisticRegression(penalty='l1', C= 6.0, solver='saga')\n",
    "lr.fit(x_train, y_train)\n",
    "\n",
    "train_lr = lr.predict(x_train)\n",
    "test_lr = lr.predict(x_test)"
   ]
  },
  {
   "cell_type": "markdown",
   "id": "d01a3470",
   "metadata": {},
   "source": [
    "# Accuracy and classification report"
   ]
  },
  {
   "cell_type": "code",
   "execution_count": 41,
   "id": "a66a4eb5",
   "metadata": {},
   "outputs": [
    {
     "name": "stdout",
     "output_type": "stream",
     "text": [
      "train 0.5934442270058709 test 0.57421875\n"
     ]
    }
   ],
   "source": [
    "print('train', accuracy_score(y_train, train_lr), 'test', accuracy_score(test_lr, y_test))"
   ]
  },
  {
   "cell_type": "code",
   "execution_count": 42,
   "id": "f464ec87",
   "metadata": {},
   "outputs": [
    {
     "name": "stdout",
     "output_type": "stream",
     "text": [
      "train               precision    recall  f1-score   support\n",
      "\n",
      "           0       0.73      0.66      0.69       672\n",
      "           1       0.50      0.50      0.50       693\n",
      "           2       0.57      0.62      0.59       679\n",
      "\n",
      "    accuracy                           0.59      2044\n",
      "   macro avg       0.60      0.59      0.60      2044\n",
      "weighted avg       0.60      0.59      0.59      2044\n",
      " --------------------------------------------------------------------------------------------------------------------------- test               precision    recall  f1-score   support\n",
      "\n",
      "           0       0.66      0.73      0.69       162\n",
      "           1       0.44      0.41      0.42       171\n",
      "           2       0.61      0.59      0.60       179\n",
      "\n",
      "    accuracy                           0.57       512\n",
      "   macro avg       0.57      0.58      0.57       512\n",
      "weighted avg       0.57      0.57      0.57       512\n",
      "\n"
     ]
    }
   ],
   "source": [
    "print('train', classification_report(y_train, train_lr),'---------------------------------------------------------------------------------------------------------------------------','test', classification_report(test_lr, y_test))"
   ]
  },
  {
   "cell_type": "code",
   "execution_count": null,
   "id": "0a621f43",
   "metadata": {},
   "outputs": [],
   "source": []
  },
  {
   "cell_type": "markdown",
   "id": "e10bbf50",
   "metadata": {},
   "source": [
    "# XGBClassifier"
   ]
  },
  {
   "cell_type": "code",
   "execution_count": 138,
   "id": "530eabdc",
   "metadata": {},
   "outputs": [],
   "source": [
    "rfc = XGBClassifier(n_estimators=95, max_depth=2, learning_rate=0.15, random_state=24)\n",
    "\n",
    "rfc.fit(x_train, y_train)\n",
    "\n",
    "x_train_r = rfc.predict(x_train)\n",
    "x_test_r = rfc.predict(x_test)\n"
   ]
  },
  {
   "cell_type": "markdown",
   "id": "6f60f9ac",
   "metadata": {},
   "source": [
    "# Accuracy Score Classification_report"
   ]
  },
  {
   "cell_type": "code",
   "execution_count": 139,
   "id": "bb07bb9d",
   "metadata": {},
   "outputs": [
    {
     "data": {
      "text/plain": [
       "0.9021526418786693"
      ]
     },
     "execution_count": 139,
     "metadata": {},
     "output_type": "execute_result"
    }
   ],
   "source": [
    "accuracy_score(y_train, x_train_r)"
   ]
  },
  {
   "cell_type": "code",
   "execution_count": 140,
   "id": "a534e24b",
   "metadata": {},
   "outputs": [
    {
     "data": {
      "text/plain": [
       "0.8359375"
      ]
     },
     "execution_count": 140,
     "metadata": {},
     "output_type": "execute_result"
    }
   ],
   "source": [
    "accuracy_score(x_test_r, y_test)"
   ]
  },
  {
   "cell_type": "code",
   "execution_count": 141,
   "id": "16735713",
   "metadata": {},
   "outputs": [
    {
     "name": "stdout",
     "output_type": "stream",
     "text": [
      "              precision    recall  f1-score   support\n",
      "\n",
      "           0       0.95      1.00      0.98       672\n",
      "           1       0.86      0.88      0.87       693\n",
      "           2       0.89      0.82      0.86       679\n",
      "\n",
      "    accuracy                           0.90      2044\n",
      "   macro avg       0.90      0.90      0.90      2044\n",
      "weighted avg       0.90      0.90      0.90      2044\n",
      "\n"
     ]
    }
   ],
   "source": [
    "print(classification_report(y_train, x_train_r))"
   ]
  },
  {
   "cell_type": "code",
   "execution_count": 142,
   "id": "11d87be9",
   "metadata": {},
   "outputs": [
    {
     "name": "stdout",
     "output_type": "stream",
     "text": [
      "              precision    recall  f1-score   support\n",
      "\n",
      "           0       0.98      0.94      0.96       188\n",
      "           1       0.79      0.74      0.76       169\n",
      "           2       0.73      0.82      0.77       155\n",
      "\n",
      "    accuracy                           0.84       512\n",
      "   macro avg       0.83      0.83      0.83       512\n",
      "weighted avg       0.84      0.84      0.84       512\n",
      "\n"
     ]
    }
   ],
   "source": [
    "print(classification_report(x_test_r, y_test))"
   ]
  },
  {
   "cell_type": "code",
   "execution_count": null,
   "id": "cd4122b8",
   "metadata": {},
   "outputs": [],
   "source": []
  },
  {
   "cell_type": "markdown",
   "id": "d8161039",
   "metadata": {},
   "source": [
    "# cross Validation"
   ]
  },
  {
   "cell_type": "code",
   "execution_count": 143,
   "id": "17956683",
   "metadata": {},
   "outputs": [],
   "source": [
    "from sklearn.model_selection import cross_val_score\n",
    "from sklearn.model_selection import StratifiedKFold"
   ]
  },
  {
   "cell_type": "code",
   "execution_count": 144,
   "id": "3d664e04",
   "metadata": {},
   "outputs": [],
   "source": [
    "num_folds = 5\n",
    "\n",
    "cv = StratifiedKFold(n_splits=num_folds, shuffle=True, random_state=42)\n",
    "\n",
    "cross_val_results1 = cross_val_score(lr, x_resampled, y_resampled, cv=cv, scoring='accuracy')"
   ]
  },
  {
   "cell_type": "code",
   "execution_count": 145,
   "id": "36411492",
   "metadata": {},
   "outputs": [
    {
     "data": {
      "text/plain": [
       "array([0.5703125 , 0.63600783, 0.5890411 , 0.56751468, 0.59295499])"
      ]
     },
     "execution_count": 145,
     "metadata": {},
     "output_type": "execute_result"
    }
   ],
   "source": [
    "cross_val_results1"
   ]
  },
  {
   "cell_type": "code",
   "execution_count": 146,
   "id": "26f3361b",
   "metadata": {},
   "outputs": [
    {
     "data": {
      "text/plain": [
       "0.5911662181996087"
      ]
     },
     "execution_count": 146,
     "metadata": {},
     "output_type": "execute_result"
    }
   ],
   "source": [
    "cross_val_results1.mean()"
   ]
  },
  {
   "cell_type": "code",
   "execution_count": 147,
   "id": "931136b0",
   "metadata": {
    "scrolled": true
   },
   "outputs": [],
   "source": [
    "num_folds = 5\n",
    "\n",
    "cv = StratifiedKFold(n_splits=num_folds, shuffle=True, random_state=42)\n",
    "\n",
    "cross_val_results = cross_val_score(rfc, x_resampled, y_resampled, cv=cv, scoring='accuracy')"
   ]
  },
  {
   "cell_type": "code",
   "execution_count": 148,
   "id": "7f3cfc1c",
   "metadata": {},
   "outputs": [
    {
     "data": {
      "text/plain": [
       "array([0.82617188, 0.8590998 , 0.8297456 , 0.82191781, 0.82387476])"
      ]
     },
     "execution_count": 148,
     "metadata": {},
     "output_type": "execute_result"
    }
   ],
   "source": [
    "cross_val_results"
   ]
  },
  {
   "cell_type": "code",
   "execution_count": 149,
   "id": "dcac34c6",
   "metadata": {},
   "outputs": [
    {
     "data": {
      "text/plain": [
       "0.8321619679549901"
      ]
     },
     "execution_count": 149,
     "metadata": {},
     "output_type": "execute_result"
    }
   ],
   "source": [
    "cross_val_results.mean()"
   ]
  },
  {
   "cell_type": "code",
   "execution_count": null,
   "id": "2e0f422a",
   "metadata": {},
   "outputs": [],
   "source": []
  },
  {
   "cell_type": "code",
   "execution_count": null,
   "id": "c21178e9",
   "metadata": {},
   "outputs": [],
   "source": []
  },
  {
   "cell_type": "markdown",
   "id": "b8a0b569",
   "metadata": {},
   "source": [
    "# Model 2 with TFIDF"
   ]
  },
  {
   "cell_type": "markdown",
   "id": "6eaf7fa6",
   "metadata": {},
   "source": [
    "# TFIDF"
   ]
  },
  {
   "cell_type": "code",
   "execution_count": 55,
   "id": "57a1149d",
   "metadata": {},
   "outputs": [],
   "source": [
    "from sklearn.feature_extraction.text import TfidfVectorizer\n",
    "tfidf_vectorizer = TfidfVectorizer(stop_words='english')\n",
    "\n",
    "\n",
    "X_train_tfidf = tfidf_vectorizer.fit_transform(final['review']).toarray()\n",
    "\n",
    "vector = pd.DataFrame(X_train_tfidf)"
   ]
  },
  {
   "cell_type": "code",
   "execution_count": null,
   "id": "8e91f7eb",
   "metadata": {},
   "outputs": [],
   "source": []
  },
  {
   "cell_type": "markdown",
   "id": "50ba0828",
   "metadata": {},
   "source": [
    "# imbalance Dataset "
   ]
  },
  {
   "cell_type": "code",
   "execution_count": 56,
   "id": "9f1d69f2",
   "metadata": {},
   "outputs": [
    {
     "name": "stdout",
     "output_type": "stream",
     "text": [
      "(2556, 1200) (2556, 1)\n"
     ]
    }
   ],
   "source": [
    "x_resampled1, y_resampled1 = smote.fit_resample(vector, y)\n",
    "print(x_resampled1.shape, y_resampled1.shape)"
   ]
  },
  {
   "cell_type": "code",
   "execution_count": null,
   "id": "42b627ec",
   "metadata": {},
   "outputs": [],
   "source": []
  },
  {
   "cell_type": "markdown",
   "id": "8818bc62",
   "metadata": {},
   "source": [
    "# Feature Extraction"
   ]
  },
  {
   "cell_type": "code",
   "execution_count": 57,
   "id": "8b5979a8",
   "metadata": {},
   "outputs": [],
   "source": [
    "from sklearn.decomposition import PCA"
   ]
  },
  {
   "cell_type": "code",
   "execution_count": 150,
   "id": "ede7321c",
   "metadata": {},
   "outputs": [],
   "source": [
    "pc = PCA(n_components=35)\n",
    "\n",
    "compressed = pd.DataFrame(pc.fit_transform(x_resampled1))"
   ]
  },
  {
   "cell_type": "code",
   "execution_count": 151,
   "id": "b869100b",
   "metadata": {},
   "outputs": [
    {
     "data": {
      "text/plain": [
       "(2556, 35)"
      ]
     },
     "execution_count": 151,
     "metadata": {},
     "output_type": "execute_result"
    }
   ],
   "source": [
    "compressed.shape"
   ]
  },
  {
   "cell_type": "markdown",
   "id": "6c7cab0d",
   "metadata": {},
   "source": [
    "# Train test Split"
   ]
  },
  {
   "cell_type": "code",
   "execution_count": 152,
   "id": "16276717",
   "metadata": {},
   "outputs": [],
   "source": [
    "from sklearn.model_selection import train_test_split\n",
    "\n",
    "x_train1, x_test1, y_train1, y_test1 = train_test_split(compressed, y_resampled1, test_size=.20, random_state=24)"
   ]
  },
  {
   "cell_type": "code",
   "execution_count": null,
   "id": "e43eb77c",
   "metadata": {},
   "outputs": [],
   "source": []
  },
  {
   "cell_type": "markdown",
   "id": "ee0dadcb",
   "metadata": {},
   "source": [
    "# Logistic Regression"
   ]
  },
  {
   "cell_type": "code",
   "execution_count": 153,
   "id": "da7cfaa9",
   "metadata": {},
   "outputs": [],
   "source": [
    "lr1 = LogisticRegression(penalty='l1', C= 6.0, solver='saga')\n",
    "lr1.fit(x_train1, y_train1)\n",
    "\n",
    "train_lr1 = lr1.predict(x_train1)\n",
    "test_lr1 = lr1.predict(x_test1)"
   ]
  },
  {
   "cell_type": "code",
   "execution_count": null,
   "id": "430700ef",
   "metadata": {},
   "outputs": [],
   "source": []
  },
  {
   "cell_type": "markdown",
   "id": "cc976590",
   "metadata": {},
   "source": [
    "# Accuracy Score and Classification report"
   ]
  },
  {
   "cell_type": "code",
   "execution_count": 154,
   "id": "7c3cf7b6",
   "metadata": {},
   "outputs": [
    {
     "name": "stdout",
     "output_type": "stream",
     "text": [
      "train 0.8556751467710372 test 0.826171875\n"
     ]
    }
   ],
   "source": [
    "print('train', accuracy_score(y_train1, train_lr1), 'test', accuracy_score(test_lr1, y_test1))"
   ]
  },
  {
   "cell_type": "code",
   "execution_count": 155,
   "id": "99bc625f",
   "metadata": {},
   "outputs": [
    {
     "name": "stdout",
     "output_type": "stream",
     "text": [
      "              precision    recall  f1-score   support\n",
      "\n",
      "           0       0.99      1.00      0.99       672\n",
      "           1       0.79      0.79      0.79       693\n",
      "           2       0.79      0.78      0.79       679\n",
      "\n",
      "    accuracy                           0.86      2044\n",
      "   macro avg       0.86      0.86      0.86      2044\n",
      "weighted avg       0.85      0.86      0.86      2044\n",
      "\n"
     ]
    }
   ],
   "source": [
    "print(classification_report(y_train1, train_lr1))"
   ]
  },
  {
   "cell_type": "code",
   "execution_count": 156,
   "id": "2dfecb66",
   "metadata": {},
   "outputs": [
    {
     "name": "stdout",
     "output_type": "stream",
     "text": [
      "              precision    recall  f1-score   support\n",
      "\n",
      "           0       1.00      0.98      0.99       183\n",
      "           1       0.75      0.71      0.73       169\n",
      "           2       0.71      0.77      0.74       160\n",
      "\n",
      "    accuracy                           0.83       512\n",
      "   macro avg       0.82      0.82      0.82       512\n",
      "weighted avg       0.83      0.83      0.83       512\n",
      "\n"
     ]
    }
   ],
   "source": [
    "print(classification_report(test_lr1, y_test1))"
   ]
  },
  {
   "cell_type": "code",
   "execution_count": null,
   "id": "924d7301",
   "metadata": {},
   "outputs": [],
   "source": []
  },
  {
   "cell_type": "markdown",
   "id": "4ded9bec",
   "metadata": {},
   "source": [
    "# XGBClassifier"
   ]
  },
  {
   "cell_type": "code",
   "execution_count": 157,
   "id": "4e75afcd",
   "metadata": {},
   "outputs": [],
   "source": [
    "rfc1 = XGBClassifier(n_estimators=89, max_depth=2, learning_rate=0.10)\n",
    "\n",
    "rfc1.fit(x_train1, y_train1)\n",
    "\n",
    "x_train_r1 = rfc1.predict(x_train1)\n",
    "x_test_r1 = rfc1.predict(x_test1)\n"
   ]
  },
  {
   "cell_type": "markdown",
   "id": "29700835",
   "metadata": {},
   "source": [
    "# Accuracy Score and Classification report"
   ]
  },
  {
   "cell_type": "code",
   "execution_count": 158,
   "id": "b6e5d018",
   "metadata": {},
   "outputs": [
    {
     "name": "stdout",
     "output_type": "stream",
     "text": [
      "train 0.9055772994129159 test 0.853515625\n"
     ]
    }
   ],
   "source": [
    "print('train', accuracy_score(y_train1, x_train_r1), 'test', accuracy_score(x_test_r1, y_test1))"
   ]
  },
  {
   "cell_type": "code",
   "execution_count": 159,
   "id": "3db3862a",
   "metadata": {},
   "outputs": [
    {
     "name": "stdout",
     "output_type": "stream",
     "text": [
      "              precision    recall  f1-score   support\n",
      "\n",
      "           0       1.00      1.00      1.00       672\n",
      "           1       0.87      0.84      0.86       693\n",
      "           2       0.85      0.88      0.86       679\n",
      "\n",
      "    accuracy                           0.91      2044\n",
      "   macro avg       0.91      0.91      0.91      2044\n",
      "weighted avg       0.91      0.91      0.91      2044\n",
      "\n"
     ]
    }
   ],
   "source": [
    "print(classification_report(y_train1, x_train_r1))"
   ]
  },
  {
   "cell_type": "code",
   "execution_count": 160,
   "id": "97bd6fa0",
   "metadata": {},
   "outputs": [
    {
     "name": "stdout",
     "output_type": "stream",
     "text": [
      "              precision    recall  f1-score   support\n",
      "\n",
      "           0       0.99      0.99      0.99       180\n",
      "           1       0.78      0.76      0.77       163\n",
      "           2       0.78      0.80      0.79       169\n",
      "\n",
      "    accuracy                           0.85       512\n",
      "   macro avg       0.85      0.85      0.85       512\n",
      "weighted avg       0.85      0.85      0.85       512\n",
      "\n"
     ]
    }
   ],
   "source": [
    "print(classification_report(x_test_r1, y_test1))"
   ]
  },
  {
   "cell_type": "code",
   "execution_count": null,
   "id": "c15f1e12",
   "metadata": {},
   "outputs": [],
   "source": []
  },
  {
   "cell_type": "markdown",
   "id": "aca9562f",
   "metadata": {},
   "source": [
    "# Cross Validation "
   ]
  },
  {
   "cell_type": "code",
   "execution_count": 161,
   "id": "f1ff1efd",
   "metadata": {},
   "outputs": [],
   "source": [
    "num_folds = 5\n",
    "\n",
    "cv = StratifiedKFold(n_splits=num_folds, shuffle=True, random_state=42)\n",
    "\n",
    "cross_val_results12 = cross_val_score(lr1, compressed, y_resampled1, cv=cv, scoring='accuracy')"
   ]
  },
  {
   "cell_type": "code",
   "execution_count": 162,
   "id": "f0d72089",
   "metadata": {},
   "outputs": [
    {
     "data": {
      "text/plain": [
       "0.8485995596868884"
      ]
     },
     "execution_count": 162,
     "metadata": {},
     "output_type": "execute_result"
    }
   ],
   "source": [
    "cross_val_results12.mean()"
   ]
  },
  {
   "cell_type": "code",
   "execution_count": 163,
   "id": "1e6f384a",
   "metadata": {},
   "outputs": [
    {
     "data": {
      "text/plain": [
       "array([0.828125  , 0.86497065, 0.85127202, 0.83170254, 0.86692759])"
      ]
     },
     "execution_count": 163,
     "metadata": {},
     "output_type": "execute_result"
    }
   ],
   "source": [
    "cross_val_results12"
   ]
  },
  {
   "cell_type": "code",
   "execution_count": null,
   "id": "94578575",
   "metadata": {},
   "outputs": [],
   "source": []
  },
  {
   "cell_type": "code",
   "execution_count": 164,
   "id": "69a99736",
   "metadata": {},
   "outputs": [],
   "source": [
    "num_folds = 5\n",
    "\n",
    "cv = StratifiedKFold(n_splits=num_folds, shuffle=True, random_state=42)\n",
    "\n",
    "cross_val_results14 = cross_val_score(rfc1, compressed, y_resampled1, cv=cv, scoring='accuracy')"
   ]
  },
  {
   "cell_type": "code",
   "execution_count": 165,
   "id": "5e290a5a",
   "metadata": {},
   "outputs": [
    {
     "data": {
      "text/plain": [
       "array([0.85351562, 0.87671233, 0.87279843, 0.86692759, 0.87084149])"
      ]
     },
     "execution_count": 165,
     "metadata": {},
     "output_type": "execute_result"
    }
   ],
   "source": [
    "cross_val_results14"
   ]
  },
  {
   "cell_type": "code",
   "execution_count": 166,
   "id": "9d8154bd",
   "metadata": {},
   "outputs": [
    {
     "data": {
      "text/plain": [
       "0.8681590936888455"
      ]
     },
     "execution_count": 166,
     "metadata": {},
     "output_type": "execute_result"
    }
   ],
   "source": [
    "cross_val_results14.mean()"
   ]
  },
  {
   "cell_type": "code",
   "execution_count": null,
   "id": "6f1e64ad",
   "metadata": {},
   "outputs": [],
   "source": []
  },
  {
   "cell_type": "code",
   "execution_count": null,
   "id": "6216d368",
   "metadata": {},
   "outputs": [],
   "source": []
  },
  {
   "cell_type": "code",
   "execution_count": null,
   "id": "7f8a465b",
   "metadata": {},
   "outputs": [],
   "source": []
  },
  {
   "cell_type": "code",
   "execution_count": null,
   "id": "a4d6f815",
   "metadata": {},
   "outputs": [],
   "source": []
  },
  {
   "cell_type": "code",
   "execution_count": null,
   "id": "4e9bbc8b",
   "metadata": {},
   "outputs": [],
   "source": []
  },
  {
   "cell_type": "code",
   "execution_count": null,
   "id": "7c575ab7",
   "metadata": {},
   "outputs": [],
   "source": []
  },
  {
   "cell_type": "code",
   "execution_count": null,
   "id": "ce6d9a5c",
   "metadata": {},
   "outputs": [],
   "source": []
  },
  {
   "cell_type": "code",
   "execution_count": null,
   "id": "bfe0d684",
   "metadata": {},
   "outputs": [],
   "source": []
  }
 ],
 "metadata": {
  "kernelspec": {
   "display_name": "Python 3 (ipykernel)",
   "language": "python",
   "name": "python3"
  },
  "language_info": {
   "codemirror_mode": {
    "name": "ipython",
    "version": 3
   },
   "file_extension": ".py",
   "mimetype": "text/x-python",
   "name": "python",
   "nbconvert_exporter": "python",
   "pygments_lexer": "ipython3",
   "version": "3.11.4"
  }
 },
 "nbformat": 4,
 "nbformat_minor": 5
}
